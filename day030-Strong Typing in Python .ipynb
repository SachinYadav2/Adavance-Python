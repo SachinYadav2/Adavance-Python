{
 "cells": [
  {
   "cell_type": "code",
   "execution_count": 1,
   "id": "19f173d0",
   "metadata": {},
   "outputs": [],
   "source": [
    "# Ham eski help se check krte h ki hmara class me function ye exist krta h ke nhi"
   ]
  },
  {
   "cell_type": "code",
   "execution_count": 2,
   "id": "72181566",
   "metadata": {},
   "outputs": [
    {
     "name": "stdout",
     "output_type": "stream",
     "text": [
      "Thapak Thapak \n"
     ]
    }
   ],
   "source": [
    "class Duck:\n",
    "    def walk(self):\n",
    "        print(\"Thapak Thapak \")\n",
    "class Horse:\n",
    "    def walk(self):\n",
    "        print(\"tabdak tabdak \")\n",
    "        \n",
    "def myfunction(obj):\n",
    "    obj.walk()\n",
    "    \n",
    "    \n",
    "obj = Duck()\n",
    "myfunction(obj)"
   ]
  },
  {
   "cell_type": "code",
   "execution_count": 3,
   "id": "ba44b858",
   "metadata": {},
   "outputs": [
    {
     "name": "stdout",
     "output_type": "stream",
     "text": [
      "Sorrry Yar your function is not exist\n"
     ]
    }
   ],
   "source": [
    "# Real Example eska\n",
    "\n",
    "class Duck:\n",
    "    def walk(self):\n",
    "        print(\"Thapak Thapak \")\n",
    "class Horse:\n",
    "    def walk(self):\n",
    "        print(\"tabdak tabdak \")\n",
    "        \n",
    "def myfunction(obj):\n",
    "    \n",
    "    # Eski bjh se hmae error show nhi hoga basically \n",
    "    if hasattr(obj , 'dance'):\n",
    "        \n",
    "        obj.walk()\n",
    "    else: \n",
    "        print(\"Sorrry Yar your function is not exist\")\n",
    "    \n",
    "obj = Duck()\n",
    "myfunction(obj)"
   ]
  },
  {
   "cell_type": "code",
   "execution_count": null,
   "id": "27030a03",
   "metadata": {},
   "outputs": [],
   "source": []
  }
 ],
 "metadata": {
  "kernelspec": {
   "display_name": "Python 3 (ipykernel)",
   "language": "python",
   "name": "python3"
  },
  "language_info": {
   "codemirror_mode": {
    "name": "ipython",
    "version": 3
   },
   "file_extension": ".py",
   "mimetype": "text/x-python",
   "name": "python",
   "nbconvert_exporter": "python",
   "pygments_lexer": "ipython3",
   "version": "3.10.8"
  }
 },
 "nbformat": 4,
 "nbformat_minor": 5
}
