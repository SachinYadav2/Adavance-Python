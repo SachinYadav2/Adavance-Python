{
 "cells": [
  {
   "cell_type": "code",
   "execution_count": 3,
   "id": "e02706fc",
   "metadata": {},
   "outputs": [
    {
     "name": "stdout",
     "output_type": "stream",
     "text": [
      "Yes\n"
     ]
    }
   ],
   "source": [
    "class Mobile:\n",
    "    fb = \"Yes\" # ANy value dal Skte Class Variable\n",
    "    \n",
    "    @classmethod  # Class method \n",
    "    def is_fb(cls):\n",
    "        print(cls.fb)\n",
    "realme = Mobile()\n",
    "# Access Class Varible using the \n",
    "Mobile.is_fb()\n",
    "    \n",
    "    "
   ]
  },
  {
   "cell_type": "code",
   "execution_count": 4,
   "id": "f51788b0",
   "metadata": {},
   "outputs": [
    {
     "name": "stdout",
     "output_type": "stream",
     "text": [
      "Model: Real Me X\n",
      "Yes\n"
     ]
    }
   ],
   "source": [
    "class Mobile:\n",
    "    fb = \"Yes\" \n",
    "    \n",
    "    def __init__(self):\n",
    "        self.model = \"Real Me X\"\n",
    "        \n",
    "        \n",
    "    def show_model(self):\n",
    "        print(\"Model:\" , self.model)\n",
    "        \n",
    "    @classmethod  \n",
    "    def is_fb(cls):\n",
    "        print(cls.fb)\n",
    "        \n",
    "        \n",
    "        \n",
    "realme = Mobile()\n",
    "realme.show_model()\n",
    "Mobile.is_fb()\n",
    "    \n",
    "    "
   ]
  },
  {
   "cell_type": "code",
   "execution_count": 5,
   "id": "d3ecf65e",
   "metadata": {},
   "outputs": [
    {
     "name": "stdout",
     "output_type": "stream",
     "text": [
      "Model: Real Me X\n",
      "Yes\n",
      "Rela me Yes\n",
      "Red me Yes\n"
     ]
    }
   ],
   "source": [
    "class Mobile:\n",
    "    fb = \"Yes\" \n",
    "    \n",
    "    def __init__(self):\n",
    "        self.model = \"Real Me X\"\n",
    "        \n",
    "        \n",
    "    def show_model(self):\n",
    "        print(\"Model:\" , self.model)\n",
    "        \n",
    "    @classmethod  \n",
    "    def is_fb(cls):\n",
    "        print(cls.fb)\n",
    "        \n",
    "        \n",
    "        \n",
    "realme = Mobile()\n",
    "realme.show_model()\n",
    "Mobile.is_fb()\n",
    "    \n",
    "Mobile.is_fb = \"No\"\n",
    "print(\"Rela me\" , Mobile.fb)\n",
    "print(\"Red me\" , Mobile.fb)"
   ]
  },
  {
   "cell_type": "code",
   "execution_count": null,
   "id": "4d7ffa7c",
   "metadata": {},
   "outputs": [],
   "source": []
  }
 ],
 "metadata": {
  "kernelspec": {
   "display_name": "Python 3 (ipykernel)",
   "language": "python",
   "name": "python3"
  },
  "language_info": {
   "codemirror_mode": {
    "name": "ipython",
    "version": 3
   },
   "file_extension": ".py",
   "mimetype": "text/x-python",
   "name": "python",
   "nbconvert_exporter": "python",
   "pygments_lexer": "ipython3",
   "version": "3.10.8"
  }
 },
 "nbformat": 4,
 "nbformat_minor": 5
}
