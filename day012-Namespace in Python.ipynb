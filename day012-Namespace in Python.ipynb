{
 "cells": [
  {
   "cell_type": "code",
   "execution_count": 1,
   "id": "129135de",
   "metadata": {},
   "outputs": [],
   "source": [
    "class Mobile:\n",
    "    fb = \"Yes\"     # Class Variable\n",
    "    \n",
    "    @classmethod   # class Method\n",
    "    def is_fb(cls):\n",
    "        print('Fin' , cls.fb)  # Accesing class Varibale\n",
    "        \n",
    "realme = Mobile()\n",
    "redmin = Mobile()\n"
   ]
  },
  {
   "cell_type": "code",
   "execution_count": 3,
   "id": "b826c3d0",
   "metadata": {},
   "outputs": [
    {
     "name": "stdout",
     "output_type": "stream",
     "text": [
      "Class Fb: Yes\n",
      "Real me: Yes\n",
      "Red me: Yes\n"
     ]
    }
   ],
   "source": [
    "print(\"Class Fb:\" , Mobile.fb)\n",
    "print(\"Real me:\" , realme.fb)\n",
    "print(\"Red me:\" , redmin.fb)\n"
   ]
  },
  {
   "cell_type": "code",
   "execution_count": 5,
   "id": "4e6c30b4",
   "metadata": {},
   "outputs": [
    {
     "name": "stdout",
     "output_type": "stream",
     "text": [
      "Class Fb: NO\n",
      "Real me: NO\n",
      "Red me: NO\n"
     ]
    }
   ],
   "source": [
    "class Mobile:\n",
    "    fb = \"Yes\"     # Class Variable\n",
    "    \n",
    "    @classmethod   # class Method\n",
    "    def is_fb(cls):\n",
    "        print('Fin' , cls.fb)  # Accesing class Varibale\n",
    "        \n",
    "realme = Mobile()\n",
    "redmin = Mobile()\n",
    "\n",
    "Mobile.fb = \"NO\"\n",
    "# Ek Me Change Kiya but sabhi me Change Mil rha H\n",
    "print(\"Class Fb:\" , Mobile.fb)\n",
    "print(\"Real me:\" , realme.fb)\n",
    "print(\"Red me:\" , redmin.fb)\n",
    "\n"
   ]
  },
  {
   "cell_type": "code",
   "execution_count": null,
   "id": "af9c85ec",
   "metadata": {},
   "outputs": [],
   "source": []
  }
 ],
 "metadata": {
  "kernelspec": {
   "display_name": "Python 3 (ipykernel)",
   "language": "python",
   "name": "python3"
  },
  "language_info": {
   "codemirror_mode": {
    "name": "ipython",
    "version": 3
   },
   "file_extension": ".py",
   "mimetype": "text/x-python",
   "name": "python",
   "nbconvert_exporter": "python",
   "pygments_lexer": "ipython3",
   "version": "3.10.8"
  }
 },
 "nbformat": 4,
 "nbformat_minor": 5
}
