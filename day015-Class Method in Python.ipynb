{
 "cells": [
  {
   "cell_type": "code",
   "execution_count": 1,
   "id": "9024a4a5",
   "metadata": {},
   "outputs": [
    {
     "name": "stdout",
     "output_type": "stream",
     "text": [
      "realme x\n"
     ]
    }
   ],
   "source": [
    "class Mobile:\n",
    "    \n",
    "    # Class Method\n",
    "    @classmethod  # Decorator\n",
    "    def show_model(cls):  # Class Method\n",
    "        print(\"realme x\")\n",
    "        \n",
    "        \n",
    "realme = Mobile()\n",
    "Mobile.show_model()  # calling class Method\n",
    "    "
   ]
  },
  {
   "cell_type": "code",
   "execution_count": 2,
   "id": "90a38901",
   "metadata": {},
   "outputs": [
    {
     "name": "stdout",
     "output_type": "stream",
     "text": [
      "Fingerprint: YES\n"
     ]
    }
   ],
   "source": [
    "# Main use of class method\n",
    "class Mobile:\n",
    "    fb = \"YES\"  # Class Variable\n",
    "    \n",
    "    \n",
    "    @classmethod\n",
    "    \n",
    "    def show_model(cls):\n",
    "        print(\"Fingerprint:\" , cls.fb)\n",
    "    \n",
    " \n",
    "        \n",
    "        \n",
    "realme = Mobile()\n",
    "Mobile.show_model()  # calling class Method\n",
    "    "
   ]
  },
  {
   "cell_type": "code",
   "execution_count": 3,
   "id": "e1237a07",
   "metadata": {},
   "outputs": [
    {
     "name": "stdout",
     "output_type": "stream",
     "text": [
      "Fingerprint: YES\n",
      "Fingerprint: 4Gb\n"
     ]
    }
   ],
   "source": [
    "# Main use of class method\n",
    "class Mobile:\n",
    "    fb = \"YES\"  # Class Variable\n",
    "    \n",
    "    \n",
    "    @classmethod\n",
    "    \n",
    "    def show_model(cls , r):\n",
    "        print(\"Fingerprint:\" , cls.fb)\n",
    "        cls.ram = r\n",
    "        \n",
    "        print(\"Fingerprint:\" , cls.ram)\n",
    "    \n",
    " \n",
    "        \n",
    "        \n",
    "realme = Mobile()\n",
    "Mobile.show_model(\"4Gb\")  # calling class Method\n",
    "    "
   ]
  },
  {
   "cell_type": "code",
   "execution_count": null,
   "id": "1afbb475",
   "metadata": {},
   "outputs": [],
   "source": []
  }
 ],
 "metadata": {
  "kernelspec": {
   "display_name": "Python 3 (ipykernel)",
   "language": "python",
   "name": "python3"
  },
  "language_info": {
   "codemirror_mode": {
    "name": "ipython",
    "version": 3
   },
   "file_extension": ".py",
   "mimetype": "text/x-python",
   "name": "python",
   "nbconvert_exporter": "python",
   "pygments_lexer": "ipython3",
   "version": "3.10.8"
  }
 },
 "nbformat": 4,
 "nbformat_minor": 5
}
