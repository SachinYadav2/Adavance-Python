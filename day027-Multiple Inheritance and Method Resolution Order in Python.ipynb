{
 "cells": [
  {
   "cell_type": "code",
   "execution_count": 1,
   "id": "7717d1ff",
   "metadata": {},
   "outputs": [
    {
     "name": "stdout",
     "output_type": "stream",
     "text": [
      "Father\n",
      "None\n",
      "Mother\n",
      "None\n",
      "Son\n",
      "None\n"
     ]
    }
   ],
   "source": [
    "class Father:\n",
    "    def showF(self):\n",
    "        print(\"Father\")\n",
    "        \n",
    "class Mother:\n",
    "    def showM(self):\n",
    "        print(\"Mother\")\n",
    "        \n",
    "class Son(Father , Mother):\n",
    "    def showS(self):\n",
    "        print(\"Son\")\n",
    "        \n",
    "# Hm ab Son se father ke method bhi acceesed kr skte\n",
    "\n",
    "s = Son()\n",
    "print(s.showF())\n",
    "print(s.showM())\n",
    "print(s.showS())"
   ]
  },
  {
   "cell_type": "code",
   "execution_count": 3,
   "id": "78952c13",
   "metadata": {},
   "outputs": [
    {
     "name": "stdout",
     "output_type": "stream",
     "text": [
      "Father\n",
      "Mother\n"
     ]
    }
   ],
   "source": [
    "s.showF()\n",
    "s.showM()"
   ]
  },
  {
   "cell_type": "code",
   "execution_count": 5,
   "id": "26a1ef80",
   "metadata": {},
   "outputs": [
    {
     "name": "stdout",
     "output_type": "stream",
     "text": [
      "Father\n"
     ]
    }
   ],
   "source": [
    "class Father:\n",
    "    \n",
    "    def __init__(self):\n",
    "        print(\"Father\")\n",
    "        \n",
    "        \n",
    "    def showF(self):\n",
    "        print(\"Father\")\n",
    "        \n",
    "class Mother:\n",
    "    def __init__(self):\n",
    "        print(\"Father\")\n",
    "        \n",
    "    def showM(self):\n",
    "        print(\"Mother\")\n",
    "        \n",
    "class Son(Father , Mother):\n",
    "    \n",
    "    def __init__(self):\n",
    "        print(\"Father\")\n",
    "        \n",
    "        \n",
    "        \n",
    "    def showS(self):\n",
    "        print(\"Son\")\n",
    "        \n",
    "# Chile Constr.. ke priorties jyda hoti h other se\n",
    "s = Son()\n"
   ]
  },
  {
   "cell_type": "code",
   "execution_count": 14,
   "id": "71a16b76",
   "metadata": {},
   "outputs": [
    {
     "name": "stdout",
     "output_type": "stream",
     "text": [
      "Father\n",
      "Son\n"
     ]
    }
   ],
   "source": [
    "# Super() Method se Kam krenge\n",
    "\n",
    "class Father:\n",
    "    \n",
    "    def __init__(self):\n",
    "\n",
    "        print(\"Father\")\n",
    "        \n",
    "        \n",
    "    def showF(self):\n",
    "        print(\"Father\")\n",
    "        \n",
    "class Mother:\n",
    "    def __init__(self):\n",
    "\n",
    "        print(\"Father\")\n",
    "        \n",
    "    def showM(self):\n",
    "        print(\"Mother\")\n",
    "        \n",
    "class Son(Father , Mother):\n",
    "    \n",
    "    def __init__(self):\n",
    "        super().__init__()\n",
    "        print(\"Son\")\n",
    "        \n",
    "        \n",
    "        \n",
    "    def showS(self):\n",
    "        print(\"Son\")\n",
    "        \n",
    "# Chile Constr.. ke priorties jyda hoti h other se\n",
    "s = Son()\n"
   ]
  },
  {
   "cell_type": "code",
   "execution_count": 15,
   "id": "b91853a7",
   "metadata": {},
   "outputs": [
    {
     "name": "stdout",
     "output_type": "stream",
     "text": [
      "Mother\n",
      "Father\n",
      "Son\n"
     ]
    }
   ],
   "source": [
    "# All Parents Class Construr Call Honge\n",
    "\n",
    "class Father:\n",
    "    \n",
    "    def __init__(self):\n",
    "        super().__init__()\n",
    "        print(\"Father\")\n",
    "        \n",
    "        \n",
    "    def showF(self):\n",
    "        print(\"Father\")\n",
    "        \n",
    "class Mother:\n",
    "    def __init__(self):\n",
    "        super().__init__()\n",
    "        print(\"Mother\")\n",
    "        \n",
    "    def showM(self):\n",
    "        print(\"Mother\")\n",
    "# Left to Right      \n",
    "class Son(Father , Mother):\n",
    "    \n",
    "    def __init__(self):\n",
    "        super().__init__()\n",
    "        print(\"Son\")\n",
    "        \n",
    "        \n",
    "        \n",
    "    def showS(self):\n",
    "        print(\"Son\")\n",
    "        \n",
    "s = Son()\n"
   ]
  },
  {
   "cell_type": "code",
   "execution_count": null,
   "id": "1aa05106",
   "metadata": {},
   "outputs": [],
   "source": []
  }
 ],
 "metadata": {
  "kernelspec": {
   "display_name": "Python 3 (ipykernel)",
   "language": "python",
   "name": "python3"
  },
  "language_info": {
   "codemirror_mode": {
    "name": "ipython",
    "version": 3
   },
   "file_extension": ".py",
   "mimetype": "text/x-python",
   "name": "python",
   "nbconvert_exporter": "python",
   "pygments_lexer": "ipython3",
   "version": "3.10.8"
  }
 },
 "nbformat": 4,
 "nbformat_minor": 5
}
