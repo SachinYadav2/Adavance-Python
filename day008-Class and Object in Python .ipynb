{
 "cells": [
  {
   "cell_type": "markdown",
   "id": "864249f6",
   "metadata": {},
   "source": [
    "# Ex-1"
   ]
  },
  {
   "cell_type": "code",
   "execution_count": 9,
   "id": "487cc9f6",
   "metadata": {},
   "outputs": [],
   "source": [
    "class Myclass(object): # Agr hm object na bhi to kam chl jaega\n",
    "    def show(self):\n",
    "        print(\"I am Metod\")\n",
    "    "
   ]
  },
  {
   "cell_type": "code",
   "execution_count": 10,
   "id": "cbf9d962",
   "metadata": {},
   "outputs": [
    {
     "name": "stdout",
     "output_type": "stream",
     "text": [
      "I am Metod\n"
     ]
    }
   ],
   "source": [
    "x = Myclass()\n",
    "x.show()"
   ]
  },
  {
   "cell_type": "code",
   "execution_count": 11,
   "id": "0c76441a",
   "metadata": {},
   "outputs": [
    {
     "name": "stdout",
     "output_type": "stream",
     "text": [
      "I am Metod\n"
     ]
    }
   ],
   "source": [
    "class Myclass(object): # Agr hm object na bhi to kam chl jaega\n",
    "    def show(self):\n",
    "        print(\"I am Metod\")\n",
    "x = Myclass()\n",
    "x.show()"
   ]
  },
  {
   "cell_type": "markdown",
   "id": "0b2f1c59",
   "metadata": {},
   "source": [
    "# Ex-3"
   ]
  },
  {
   "cell_type": "code",
   "execution_count": 14,
   "id": "fb46efd8",
   "metadata": {},
   "outputs": [
    {
     "name": "stdout",
     "output_type": "stream",
     "text": [
      "Mobile; RealMe X\n"
     ]
    }
   ],
   "source": [
    "class Mobile:\n",
    "    def __init__(self):\n",
    "        self.model = \"RealMe X\"\n",
    "        \n",
    "    def show_model(self):\n",
    "        print(\"Mobile;\" , self.model)\n",
    "realme = Mobile()\n",
    "realme.show_model()"
   ]
  },
  {
   "cell_type": "code",
   "execution_count": 15,
   "id": "d6f73054",
   "metadata": {},
   "outputs": [
    {
     "data": {
      "text/plain": [
       "'RealMe X'"
      ]
     },
     "execution_count": 15,
     "metadata": {},
     "output_type": "execute_result"
    }
   ],
   "source": [
    "realme.model"
   ]
  },
  {
   "cell_type": "code",
   "execution_count": 16,
   "id": "a95f0655",
   "metadata": {},
   "outputs": [],
   "source": [
    "realme.model = \"Reasign Values\""
   ]
  },
  {
   "cell_type": "code",
   "execution_count": 17,
   "id": "a6dba26e",
   "metadata": {},
   "outputs": [
    {
     "data": {
      "text/plain": [
       "'Reasign Values'"
      ]
     },
     "execution_count": 17,
     "metadata": {},
     "output_type": "execute_result"
    }
   ],
   "source": [
    "realme.model"
   ]
  },
  {
   "cell_type": "markdown",
   "id": "6980e335",
   "metadata": {},
   "source": [
    "# Ex-4"
   ]
  },
  {
   "cell_type": "code",
   "execution_count": 19,
   "id": "ae5f543b",
   "metadata": {},
   "outputs": [
    {
     "name": "stdout",
     "output_type": "stream",
     "text": [
      "Mobile; Real Me X 5000 1000\n"
     ]
    }
   ],
   "source": [
    "class Mobile:\n",
    "    def __init__(self , n):\n",
    "        self.model = n\n",
    "        \n",
    "    def show_model(self , p ):\n",
    "        price = p\n",
    "        am = 5000 # Local var\n",
    "        print(\"Mobile;\" , self.model , am , price)\n",
    "realme = Mobile('Real Me X')\n",
    "realme.show_model(1000)"
   ]
  },
  {
   "cell_type": "markdown",
   "id": "6895de41",
   "metadata": {},
   "source": [
    "# Ex-5"
   ]
  },
  {
   "cell_type": "code",
   "execution_count": 22,
   "id": "10fadaa2",
   "metadata": {},
   "outputs": [
    {
     "name": "stdout",
     "output_type": "stream",
     "text": [
      "Mobile; Real Me X 5000 1000\n",
      "4426777360\n",
      "\n",
      "Mobile; Real Me X 5000 100\n",
      "4426789840\n",
      "\n"
     ]
    }
   ],
   "source": [
    "class Mobile:\n",
    "    def __init__(self , n):\n",
    "        self.model = n\n",
    "        \n",
    "    def show_model(self , p ):\n",
    "        self.price = p # Yha self hmera same work krega\n",
    "        am = 5000 # Local var\n",
    "        print(\"Mobile;\" , self.model , am , self.price)\n",
    "realme = Mobile('Real Me X')\n",
    "realme.show_model(1000)\n",
    "print(id(realme))\n",
    "print()\n",
    "\n",
    "\n",
    "redmi = Mobile('Real Me X')\n",
    "redmi.show_model(100)\n",
    "print(id(redmi))\n",
    "print()"
   ]
  },
  {
   "cell_type": "code",
   "execution_count": null,
   "id": "6511fb41",
   "metadata": {},
   "outputs": [],
   "source": []
  },
  {
   "cell_type": "code",
   "execution_count": null,
   "id": "15820fce",
   "metadata": {},
   "outputs": [],
   "source": []
  }
 ],
 "metadata": {
  "kernelspec": {
   "display_name": "Python 3 (ipykernel)",
   "language": "python",
   "name": "python3"
  },
  "language_info": {
   "codemirror_mode": {
    "name": "ipython",
    "version": 3
   },
   "file_extension": ".py",
   "mimetype": "text/x-python",
   "name": "python",
   "nbconvert_exporter": "python",
   "pygments_lexer": "ipython3",
   "version": "3.10.8"
  }
 },
 "nbformat": 4,
 "nbformat_minor": 5
}
