{
 "cells": [
  {
   "cell_type": "code",
   "execution_count": 2,
   "id": "d9997279",
   "metadata": {},
   "outputs": [
    {
     "name": "stdout",
     "output_type": "stream",
     "text": [
      "Thapak thapak\n"
     ]
    }
   ],
   "source": [
    "class Duck:\n",
    "    def walk(slef):\n",
    "        print(\"Thapak thapak\")\n",
    "        \n",
    "class Horse:\n",
    "    def walk(self):\n",
    "        print(\"tabdak tabdak\")\n",
    "        \n",
    "# Ese koe frk nhi pdta h kis class ka object aa rha h\n",
    "def myfunction(obj):\n",
    "    obj.walk()\n",
    "    \n",
    "d = Duck()\n",
    "myfunction(d)"
   ]
  },
  {
   "cell_type": "code",
   "execution_count": 4,
   "id": "e04030c7",
   "metadata": {},
   "outputs": [
    {
     "ename": "AttributeError",
     "evalue": "'Cat' object has no attribute 'walk'",
     "output_type": "error",
     "traceback": [
      "\u001b[0;31m---------------------------------------------------------------------------\u001b[0m",
      "\u001b[0;31mAttributeError\u001b[0m                            Traceback (most recent call last)",
      "Cell \u001b[0;32mIn[4], line 18\u001b[0m\n\u001b[1;32m     15\u001b[0m     obj\u001b[38;5;241m.\u001b[39mwalk()\n\u001b[1;32m     17\u001b[0m d \u001b[38;5;241m=\u001b[39m Cat()\n\u001b[0;32m---> 18\u001b[0m \u001b[43mmyfunction\u001b[49m\u001b[43m(\u001b[49m\u001b[43md\u001b[49m\u001b[43m)\u001b[49m\n",
      "Cell \u001b[0;32mIn[4], line 15\u001b[0m, in \u001b[0;36mmyfunction\u001b[0;34m(obj)\u001b[0m\n\u001b[1;32m     14\u001b[0m \u001b[38;5;28;01mdef\u001b[39;00m \u001b[38;5;21mmyfunction\u001b[39m(obj):\n\u001b[0;32m---> 15\u001b[0m     \u001b[43mobj\u001b[49m\u001b[38;5;241;43m.\u001b[39;49m\u001b[43mwalk\u001b[49m()\n",
      "\u001b[0;31mAttributeError\u001b[0m: 'Cat' object has no attribute 'walk'"
     ]
    }
   ],
   "source": [
    "class Duck:\n",
    "    def walk(slef):\n",
    "        print(\"Thapak thapak\")\n",
    "        \n",
    "class Horse:\n",
    "    def walk(self):\n",
    "        print(\"tabdak tabdak\")\n",
    "        \n",
    "class Cat:\n",
    "    def talk(self):\n",
    "        print(\"Meom meom\")\n",
    "        \n",
    "# Ese koe frk nhi pdta h kis class ka object aa rha h\n",
    "def myfunction(obj):\n",
    "    obj.walk()\n",
    "    \n",
    "d = Cat()\n",
    "myfunction(d)"
   ]
  },
  {
   "cell_type": "code",
   "execution_count": 6,
   "id": "58e7747d",
   "metadata": {},
   "outputs": [
    {
     "name": "stdout",
     "output_type": "stream",
     "text": [
      "Thapak thapak\n",
      "tabdak tabdak\n"
     ]
    },
    {
     "ename": "AttributeError",
     "evalue": "'Cat' object has no attribute 'walk'",
     "output_type": "error",
     "traceback": [
      "\u001b[0;31m---------------------------------------------------------------------------\u001b[0m",
      "\u001b[0;31mAttributeError\u001b[0m                            Traceback (most recent call last)",
      "Cell \u001b[0;32mIn[6], line 25\u001b[0m\n\u001b[1;32m     21\u001b[0m myfunction(h)\n\u001b[1;32m     24\u001b[0m c \u001b[38;5;241m=\u001b[39m Cat()\n\u001b[0;32m---> 25\u001b[0m \u001b[43mmyfunction\u001b[49m\u001b[43m(\u001b[49m\u001b[43mc\u001b[49m\u001b[43m)\u001b[49m\n",
      "Cell \u001b[0;32mIn[6], line 15\u001b[0m, in \u001b[0;36mmyfunction\u001b[0;34m(obj)\u001b[0m\n\u001b[1;32m     14\u001b[0m \u001b[38;5;28;01mdef\u001b[39;00m \u001b[38;5;21mmyfunction\u001b[39m(obj):\n\u001b[0;32m---> 15\u001b[0m     \u001b[43mobj\u001b[49m\u001b[38;5;241;43m.\u001b[39;49m\u001b[43mwalk\u001b[49m()\n",
      "\u001b[0;31mAttributeError\u001b[0m: 'Cat' object has no attribute 'walk'"
     ]
    }
   ],
   "source": [
    "class Duck:\n",
    "    def walk(slef):\n",
    "        print(\"Thapak thapak\")\n",
    "        \n",
    "class Horse:\n",
    "    def walk(self):\n",
    "        print(\"tabdak tabdak\")\n",
    "        \n",
    "class Cat:\n",
    "    def talk(self):\n",
    "        print(\"Meom meom\")\n",
    "        \n",
    "# Ese koe frk nhi pdta h kis class ka object aa rha h\n",
    "def myfunction(obj):\n",
    "    obj.walk()\n",
    "    \n",
    "d = Duck()\n",
    "myfunction(d)\n",
    "\n",
    "h = Horse()\n",
    "myfunction(h)\n",
    "\n",
    "\n",
    "c = Cat()\n",
    "myfunction(c)"
   ]
  },
  {
   "cell_type": "code",
   "execution_count": null,
   "id": "21970199",
   "metadata": {},
   "outputs": [],
   "source": []
  }
 ],
 "metadata": {
  "kernelspec": {
   "display_name": "Python 3 (ipykernel)",
   "language": "python",
   "name": "python3"
  },
  "language_info": {
   "codemirror_mode": {
    "name": "ipython",
    "version": 3
   },
   "file_extension": ".py",
   "mimetype": "text/x-python",
   "name": "python",
   "nbconvert_exporter": "python",
   "pygments_lexer": "ipython3",
   "version": "3.10.8"
  }
 },
 "nbformat": 4,
 "nbformat_minor": 5
}
