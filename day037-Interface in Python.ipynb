{
 "cells": [
  {
   "cell_type": "code",
   "execution_count": 1,
   "id": "b78f017e",
   "metadata": {},
   "outputs": [],
   "source": [
    "from abc import ABC , abstractclassmethod\n"
   ]
  },
  {
   "cell_type": "code",
   "execution_count": 2,
   "id": "9462b552",
   "metadata": {},
   "outputs": [],
   "source": [
    "class Father(ABC):\n",
    "    @abstractclassmethod\n",
    "    def disp(self):\n",
    "        pass\n",
    "    \n",
    "class Child(Father):\n",
    "    def disp(self):\n",
    "        print(\"Child Class Call ho rha h ?\")"
   ]
  },
  {
   "cell_type": "code",
   "execution_count": 4,
   "id": "016993fa",
   "metadata": {},
   "outputs": [
    {
     "name": "stdout",
     "output_type": "stream",
     "text": [
      "Child Class Call ho rha h ?\n"
     ]
    }
   ],
   "source": [
    "c = Child()\n",
    "c.disp()"
   ]
  },
  {
   "cell_type": "code",
   "execution_count": 8,
   "id": "69d9e21f",
   "metadata": {},
   "outputs": [],
   "source": [
    "class Father(ABC):\n",
    "    @abstractclassmethod\n",
    "    def disp1(self):\n",
    "        pass\n",
    "    @abstractclassmethod\n",
    "    def disp2(self):\n",
    "        pass\n",
    "    \n",
    "class Child(Father):\n",
    "    def disp1(self):\n",
    "        print(\"Child Class Call ho rha h ?\")\n",
    "    def disp2(self):\n",
    "        print(\"Second call \")\n",
    "    #all abstabstractclassmethod method child me inhritance hone chahiya"
   ]
  },
  {
   "cell_type": "code",
   "execution_count": 11,
   "id": "415ea842",
   "metadata": {},
   "outputs": [
    {
     "name": "stdout",
     "output_type": "stream",
     "text": [
      "Child Class Call ho rha h ?\n",
      "Second call \n"
     ]
    }
   ],
   "source": [
    "c = Child()\n",
    "c.disp1()\n",
    "c.disp2()"
   ]
  },
  {
   "cell_type": "code",
   "execution_count": null,
   "id": "94f5a2ef",
   "metadata": {},
   "outputs": [],
   "source": []
  }
 ],
 "metadata": {
  "kernelspec": {
   "display_name": "Python 3 (ipykernel)",
   "language": "python",
   "name": "python3"
  },
  "language_info": {
   "codemirror_mode": {
    "name": "ipython",
    "version": 3
   },
   "file_extension": ".py",
   "mimetype": "text/x-python",
   "name": "python",
   "nbconvert_exporter": "python",
   "pygments_lexer": "ipython3",
   "version": "3.10.8"
  }
 },
 "nbformat": 4,
 "nbformat_minor": 5
}
