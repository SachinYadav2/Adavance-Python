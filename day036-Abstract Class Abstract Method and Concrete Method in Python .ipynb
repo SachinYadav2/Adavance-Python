{
 "cells": [
  {
   "cell_type": "code",
   "execution_count": 8,
   "id": "8b77014a",
   "metadata": {},
   "outputs": [],
   "source": [
    "from abc import ABC  , abstractclassmethod\n"
   ]
  },
  {
   "cell_type": "code",
   "execution_count": 3,
   "id": "f785bc74",
   "metadata": {},
   "outputs": [
    {
     "ename": "TypeError",
     "evalue": "Can't instantiate abstract class Father with abstract method disp",
     "output_type": "error",
     "traceback": [
      "\u001b[0;31m---------------------------------------------------------------------------\u001b[0m",
      "\u001b[0;31mTypeError\u001b[0m                                 Traceback (most recent call last)",
      "Cell \u001b[0;32mIn[3], line 11\u001b[0m\n\u001b[1;32m      8\u001b[0m     \u001b[38;5;28;01mdef\u001b[39;00m \u001b[38;5;21mshow\u001b[39m(\u001b[38;5;28mself\u001b[39m):\n\u001b[1;32m      9\u001b[0m         \u001b[38;5;28mprint\u001b[39m(\u001b[38;5;124m\"\u001b[39m\u001b[38;5;124mConcareate method\u001b[39m\u001b[38;5;124m\"\u001b[39m)\n\u001b[0;32m---> 11\u001b[0m obj \u001b[38;5;241m=\u001b[39m \u001b[43mFather\u001b[49m\u001b[43m(\u001b[49m\u001b[43m)\u001b[49m\n",
      "\u001b[0;31mTypeError\u001b[0m: Can't instantiate abstract class Father with abstract method disp"
     ]
    }
   ],
   "source": [
    "\n",
    "# Hm absract class ka object nhi bnas skte\n",
    "\n",
    "\n",
    "class Father(ABC):\n",
    "    @abstractclassmethod\n",
    "    def disp(self):\n",
    "        pass\n",
    "    def show(self):\n",
    "        print(\"Concareate method\")\n",
    "        \n",
    "obj = Father()\n",
    "        "
   ]
  },
  {
   "cell_type": "code",
   "execution_count": 4,
   "id": "a6560d10",
   "metadata": {},
   "outputs": [
    {
     "name": "stdout",
     "output_type": "stream",
     "text": [
      "Child Class\n",
      "Defining Abstract Method\n",
      "Concareate method\n"
     ]
    }
   ],
   "source": [
    "\n",
    "\n",
    "\n",
    "class Father(ABC):\n",
    "    @abstractclassmethod\n",
    "    def disp(self):\n",
    "        pass\n",
    "    def show(self):\n",
    "        print(\"Concareate method\")\n",
    "        \n",
    "class Child(Father):\n",
    "    def disp(self):\n",
    "        print(\"Child Class\")\n",
    "        print(\"Defining Abstract Method\")\n",
    "c = Child()\n",
    "c.disp()\n",
    "c.show()"
   ]
  },
  {
   "cell_type": "code",
   "execution_count": 12,
   "id": "e8836497",
   "metadata": {},
   "outputs": [
    {
     "name": "stdout",
     "output_type": "stream",
     "text": [
      "Gun = AK74\n",
      "Army Area = Land\n",
      "\n",
      "Gun = AK74\n",
      "AirforceArea = Sky\n",
      "\n",
      "Gun = AK74\n",
      "Navy Area = Sea\n",
      "\n"
     ]
    }
   ],
   "source": [
    "class Defence(ABC):\n",
    "    def __init__(self):\n",
    "        self.id = 101\n",
    "        \n",
    "    @abstractclassmethod\n",
    "    def area(self):\n",
    "        pass\n",
    "        \n",
    "    def gun(self):\n",
    "        print(\"Gun = AK74\" )\n",
    "            \n",
    "            \n",
    "class Army(Defence):\n",
    "    def area(self):\n",
    "        print(\"Army Area = Land\")\n",
    "        \n",
    "class AirForce(Defence):\n",
    "    def area(self):\n",
    "        print(\"AirforceArea = Sky\")\n",
    "        \n",
    "class Navy(Defence):\n",
    "    def area(self):\n",
    "        print(\"Navy Area = Sea\")\n",
    "        \n",
    "        \n",
    "a = Army()\n",
    "af = AirForce()\n",
    "n = Navy()\n",
    "\n",
    "\n",
    "a.gun()\n",
    "a.area()\n",
    "print()\n",
    "\n",
    "af.gun()\n",
    "af.area()\n",
    "print()\n",
    "\n",
    "n.gun()\n",
    "n.area()\n",
    "print()\n",
    "        "
   ]
  },
  {
   "cell_type": "code",
   "execution_count": null,
   "id": "05a1f278",
   "metadata": {},
   "outputs": [],
   "source": []
  }
 ],
 "metadata": {
  "kernelspec": {
   "display_name": "Python 3 (ipykernel)",
   "language": "python",
   "name": "python3"
  },
  "language_info": {
   "codemirror_mode": {
    "name": "ipython",
    "version": 3
   },
   "file_extension": ".py",
   "mimetype": "text/x-python",
   "name": "python",
   "nbconvert_exporter": "python",
   "pygments_lexer": "ipython3",
   "version": "3.10.8"
  }
 },
 "nbformat": 4,
 "nbformat_minor": 5
}
