{
 "cells": [
  {
   "cell_type": "code",
   "execution_count": 2,
   "id": "91b9cff6",
   "metadata": {},
   "outputs": [
    {
     "name": "stdout",
     "output_type": "stream",
     "text": [
      "Mobile Cons Active Or Call Hua\n"
     ]
    }
   ],
   "source": [
    "# Hm Dekhenge ke Constructor Kab call hot ah\n",
    "\n",
    "class Mobile:\n",
    "    def __init__(self):\n",
    "        print(\"Mobile Cons Active Or Call Hua\")\n",
    "# Yha hmne Kise bhi Method ko call nhi kiya h        \n",
    "realme = Mobile()"
   ]
  },
  {
   "cell_type": "code",
   "execution_count": 4,
   "id": "f311a800",
   "metadata": {},
   "outputs": [
    {
     "name": "stdout",
     "output_type": "stream",
     "text": [
      "Model: Real X\n"
     ]
    }
   ],
   "source": [
    "\n",
    "class Mobile:\n",
    "    def __init__(self):\n",
    "        self.model = \"Real X\"\n",
    "     # Hmne Yha cons(variable ko bhi) ko access kiya h    \n",
    "    def show_model(self):\n",
    "        print(\"Model:\" , self.model)\n",
    "        \n",
    "realme = Mobile()\n",
    "realme.show_model()"
   ]
  },
  {
   "cell_type": "code",
   "execution_count": 7,
   "id": "1c28468a",
   "metadata": {},
   "outputs": [
    {
     "name": "stdout",
     "output_type": "stream",
     "text": [
      "Model: Real me X 1000\n",
      "Model: 455\n"
     ]
    }
   ],
   "source": [
    "\n",
    "class Mobile:\n",
    "    def __init__(self , m , v=100):\n",
    "        self.model = m\n",
    "        self.vol = v\n",
    "        \n",
    "     # Hmne Yha cons(variable ko bhi) ko access kiya h    \n",
    "    def show_model(self , p ):\n",
    "        price = p\n",
    "        print(\"Model:\" , self.model , price)\n",
    "        print(\"Model:\" , self.vol)\n",
    "\n",
    "        \n",
    "realme = Mobile(\"Real me X\" , 455)\n",
    "realme.show_model(1000)"
   ]
  },
  {
   "cell_type": "code",
   "execution_count": 8,
   "id": "837f184a",
   "metadata": {},
   "outputs": [
    {
     "name": "stdout",
     "output_type": "stream",
     "text": [
      "Model: Real me X 1000\n",
      "Model: 100\n"
     ]
    }
   ],
   "source": [
    "\n",
    "class Mobile:\n",
    "    def __init__(self , m , v=100):\n",
    "        self.model = m\n",
    "        self.vol = v\n",
    "        \n",
    "     # Hmne Yha cons(variable ko bhi) ko access kiya h    \n",
    "    def show_model(self , p ):\n",
    "        price = p\n",
    "        print(\"Model:\" , self.model , price)\n",
    "        print(\"Model:\" , self.vol)\n",
    "\n",
    "        \n",
    "realme = Mobile(\"Real me X\" )\n",
    "realme.show_model(1000)"
   ]
  },
  {
   "cell_type": "code",
   "execution_count": 9,
   "id": "7259f7a1",
   "metadata": {},
   "outputs": [
    {
     "name": "stdout",
     "output_type": "stream",
     "text": [
      "Model: Real me X 1000\n",
      "Model: 100\n",
      "\n",
      "Model: Iphone !4 Pro 1000000\n",
      "Model: 100\n"
     ]
    }
   ],
   "source": [
    "\n",
    "class Mobile:\n",
    "    def __init__(self , m , v=100):\n",
    "        self.model = m\n",
    "        self.vol = v\n",
    "        \n",
    "     # Hmne Yha cons(variable ko bhi) ko access kiya h    \n",
    "    def show_model(self , p ):\n",
    "        price = p\n",
    "        print(\"Model:\" , self.model , price)\n",
    "        print(\"Model:\" , self.vol)\n",
    "\n",
    "        \n",
    "realme = Mobile(\"Real me X\" )\n",
    "realme.show_model(1000)\n",
    "print()\n",
    "\n",
    "iphone = Mobile(\"Iphone !4 Pro\")\n",
    "iphone.show_model(1000000)"
   ]
  },
  {
   "cell_type": "code",
   "execution_count": 11,
   "id": "ad8f8155",
   "metadata": {},
   "outputs": [
    {
     "name": "stdout",
     "output_type": "stream",
     "text": [
      "4405381872\n",
      "4405385328\n"
     ]
    }
   ],
   "source": [
    "print(id(realme))\n",
    "print(id(iphone))"
   ]
  },
  {
   "cell_type": "code",
   "execution_count": null,
   "id": "180f37b1",
   "metadata": {},
   "outputs": [],
   "source": []
  }
 ],
 "metadata": {
  "kernelspec": {
   "display_name": "Python 3 (ipykernel)",
   "language": "python",
   "name": "python3"
  },
  "language_info": {
   "codemirror_mode": {
    "name": "ipython",
    "version": 3
   },
   "file_extension": ".py",
   "mimetype": "text/x-python",
   "name": "python",
   "nbconvert_exporter": "python",
   "pygments_lexer": "ipython3",
   "version": "3.10.8"
  }
 },
 "nbformat": 4,
 "nbformat_minor": 5
}
