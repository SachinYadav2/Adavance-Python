{
 "cells": [
  {
   "cell_type": "code",
   "execution_count": 9,
   "id": "74e850ad",
   "metadata": {},
   "outputs": [
    {
     "name": "stdout",
     "output_type": "stream",
     "text": [
      "Child Class Instance Method:\n"
     ]
    }
   ],
   "source": [
    "class Father:\n",
    "    money = 1000\n",
    "    \n",
    "    def show(self):\n",
    "        print(\"Parent Class Instance Method\")\n",
    "    \n",
    "    @classmethod\n",
    "    def showmoney(cls):\n",
    "        print(\"Parents Class Class Method:\" , cls.money)\n",
    "        \n",
    "        \n",
    "    @staticmethod   \n",
    "    def stat():\n",
    "        a = 1\n",
    "        print(\"Parents Class Static Method:\" , a)\n",
    "        \n",
    "        \n",
    "        \n",
    "        print(\"Parents class Static Method accesed:\")\n",
    "class Son(Father):\n",
    "    \n",
    "    def disp(self):\n",
    "        print(\"Child Class Instance Method:\")\n",
    "s = Son()\n",
    "s.disp()"
   ]
  },
  {
   "cell_type": "code",
   "execution_count": 10,
   "id": "4b009958",
   "metadata": {},
   "outputs": [
    {
     "name": "stdout",
     "output_type": "stream",
     "text": [
      "Parent Class Instance Method\n"
     ]
    }
   ],
   "source": [
    "# Hmne Child ke object se Parent ka method Accesed kr liya h\n",
    "s.show()"
   ]
  },
  {
   "cell_type": "code",
   "execution_count": 11,
   "id": "7fbc5a89",
   "metadata": {},
   "outputs": [
    {
     "name": "stdout",
     "output_type": "stream",
     "text": [
      "Parents Class Class Method: 1000\n"
     ]
    }
   ],
   "source": [
    "# Classs Mthod\n",
    "s.showmoney()"
   ]
  },
  {
   "cell_type": "code",
   "execution_count": 12,
   "id": "9221f6f2",
   "metadata": {},
   "outputs": [
    {
     "name": "stdout",
     "output_type": "stream",
     "text": [
      "Parents Class Static Method: 1\n",
      "Parents class Static Method accesed:\n"
     ]
    }
   ],
   "source": [
    "s.stat()"
   ]
  },
  {
   "cell_type": "code",
   "execution_count": 13,
   "id": "b011896b",
   "metadata": {},
   "outputs": [],
   "source": [
    "# Ham se Father ke object se hm only jo father ke method or data ko accessed kr skte"
   ]
  },
  {
   "cell_type": "code",
   "execution_count": 15,
   "id": "a68a49e5",
   "metadata": {},
   "outputs": [
    {
     "name": "stdout",
     "output_type": "stream",
     "text": [
      "Parent Class Instance Method\n"
     ]
    }
   ],
   "source": [
    "F = Father()\n",
    "F.show()"
   ]
  },
  {
   "cell_type": "code",
   "execution_count": null,
   "id": "73e9d3c5",
   "metadata": {},
   "outputs": [],
   "source": []
  }
 ],
 "metadata": {
  "kernelspec": {
   "display_name": "Python 3 (ipykernel)",
   "language": "python",
   "name": "python3"
  },
  "language_info": {
   "codemirror_mode": {
    "name": "ipython",
    "version": 3
   },
   "file_extension": ".py",
   "mimetype": "text/x-python",
   "name": "python",
   "nbconvert_exporter": "python",
   "pygments_lexer": "ipython3",
   "version": "3.10.8"
  }
 },
 "nbformat": 4,
 "nbformat_minor": 5
}
