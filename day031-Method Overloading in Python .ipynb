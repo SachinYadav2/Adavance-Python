{
 "cells": [
  {
   "cell_type": "code",
   "execution_count": 1,
   "id": "168fdfdc",
   "metadata": {},
   "outputs": [],
   "source": [
    "# Bese to python me hmari method overloading hoti nhi beacuse hame pythhon allow nhi krta h same class\n",
    "# ke same same method bnanane ko"
   ]
  },
  {
   "cell_type": "code",
   "execution_count": 2,
   "id": "7917e2ef",
   "metadata": {},
   "outputs": [
    {
     "name": "stdout",
     "output_type": "stream",
     "text": [
      "Second \n"
     ]
    },
    {
     "ename": "TypeError",
     "evalue": "Myclass.sum() takes 1 positional argument but 2 were given",
     "output_type": "error",
     "traceback": [
      "\u001b[0;31m---------------------------------------------------------------------------\u001b[0m",
      "\u001b[0;31mTypeError\u001b[0m                                 Traceback (most recent call last)",
      "Cell \u001b[0;32mIn[2], line 10\u001b[0m\n\u001b[1;32m      8\u001b[0m obj  \u001b[38;5;241m=\u001b[39m Myclass()\n\u001b[1;32m      9\u001b[0m obj\u001b[38;5;241m.\u001b[39msum()\n\u001b[0;32m---> 10\u001b[0m \u001b[43mobj\u001b[49m\u001b[38;5;241;43m.\u001b[39;49m\u001b[43msum\u001b[49m\u001b[43m(\u001b[49m\u001b[38;5;241;43m2\u001b[39;49m\u001b[43m)\u001b[49m\n",
      "\u001b[0;31mTypeError\u001b[0m: Myclass.sum() takes 1 positional argument but 2 were given"
     ]
    }
   ],
   "source": [
    "class Myclass:\n",
    "    def sum(self  , a ):\n",
    "        print(\"Fisrst \" ,a)\n",
    "    \n",
    "    def sum(self):\n",
    "        print(\"Second \")\n",
    "        \n",
    "obj  = Myclass()\n",
    "obj.sum()\n",
    "obj.sum(2)"
   ]
  },
  {
   "cell_type": "code",
   "execution_count": 5,
   "id": "72fbf994",
   "metadata": {},
   "outputs": [
    {
     "ename": "TypeError",
     "evalue": "unsupported operand type(s) for +: 'int' and 'NoneType'",
     "output_type": "error",
     "traceback": [
      "\u001b[0;31m---------------------------------------------------------------------------\u001b[0m",
      "\u001b[0;31mTypeError\u001b[0m                                 Traceback (most recent call last)",
      "Cell \u001b[0;32mIn[5], line 9\u001b[0m\n\u001b[1;32m      4\u001b[0m         \u001b[38;5;28mprint\u001b[39m(\u001b[38;5;124m\"\u001b[39m\u001b[38;5;124mFisrst \u001b[39m\u001b[38;5;124m\"\u001b[39m ,a\u001b[38;5;241m+\u001b[39mb\u001b[38;5;241m+\u001b[39mc)\n\u001b[1;32m      8\u001b[0m obj  \u001b[38;5;241m=\u001b[39m Myclass()\n\u001b[0;32m----> 9\u001b[0m \u001b[43mobj\u001b[49m\u001b[38;5;241;43m.\u001b[39;49m\u001b[43msum\u001b[49m\u001b[43m(\u001b[49m\u001b[38;5;241;43m2\u001b[39;49m\u001b[43m)\u001b[49m\n",
      "Cell \u001b[0;32mIn[5], line 4\u001b[0m, in \u001b[0;36mMyclass.sum\u001b[0;34m(self, a, b, c)\u001b[0m\n\u001b[1;32m      3\u001b[0m \u001b[38;5;28;01mdef\u001b[39;00m \u001b[38;5;21msum\u001b[39m(\u001b[38;5;28mself\u001b[39m  , a \u001b[38;5;241m=\u001b[39m \u001b[38;5;28;01mNone\u001b[39;00m  , b \u001b[38;5;241m=\u001b[39m \u001b[38;5;28;01mNone\u001b[39;00m , c  \u001b[38;5;241m=\u001b[39m \u001b[38;5;28;01mNone\u001b[39;00m ):\n\u001b[0;32m----> 4\u001b[0m     \u001b[38;5;28mprint\u001b[39m(\u001b[38;5;124m\"\u001b[39m\u001b[38;5;124mFisrst \u001b[39m\u001b[38;5;124m\"\u001b[39m ,\u001b[43ma\u001b[49m\u001b[38;5;241;43m+\u001b[39;49m\u001b[43mb\u001b[49m\u001b[38;5;241m+\u001b[39mc)\n",
      "\u001b[0;31mTypeError\u001b[0m: unsupported operand type(s) for +: 'int' and 'NoneType'"
     ]
    }
   ],
   "source": [
    "# ye error h None + int ko add krne pr\n",
    "class Myclass:\n",
    "    def sum(self  , a = None  , b = None , c  = None ):\n",
    "        print(\"Fisrst \" ,a+b+c)\n",
    "    \n",
    "\n",
    "        \n",
    "obj  = Myclass()\n",
    "obj.sum(2)"
   ]
  },
  {
   "cell_type": "code",
   "execution_count": 8,
   "id": "45e3899f",
   "metadata": {},
   "outputs": [
    {
     "name": "stdout",
     "output_type": "stream",
     "text": [
      "Fisrst  6\n"
     ]
    }
   ],
   "source": [
    "class Myclass:\n",
    "    def sum(self  , a = None  , b = None , c  = None ):\n",
    "        if a !=None and b!=None and c!=None:\n",
    "            \n",
    "            print(\"Fisrst \" ,a+b+c)\n",
    "        else:\n",
    "            print(\"No addition is not possible bro\")\n",
    "\n",
    "        \n",
    "obj  = Myclass()\n",
    "obj.sum(2 , 2, 2)"
   ]
  },
  {
   "cell_type": "code",
   "execution_count": 9,
   "id": "8e2f516a",
   "metadata": {},
   "outputs": [
    {
     "name": "stdout",
     "output_type": "stream",
     "text": [
      "No addition is not possible bro\n"
     ]
    }
   ],
   "source": [
    "class Myclass:\n",
    "    def sum(self  , a = None  , b = None , c  = None ):\n",
    "        if a !=None and b!=None and c!=None:\n",
    "            \n",
    "            print(\"Fisrst \" ,a+b+c)\n",
    "        else:\n",
    "            print(\"No addition is not possible bro\")\n",
    "\n",
    "        \n",
    "obj  = Myclass()\n",
    "obj.sum(2 , 2, )"
   ]
  },
  {
   "cell_type": "code",
   "execution_count": 11,
   "id": "d094d231",
   "metadata": {},
   "outputs": [
    {
     "name": "stdout",
     "output_type": "stream",
     "text": [
      "2\n",
      "12\n",
      "120\n",
      "21\n",
      "210\n"
     ]
    }
   ],
   "source": [
    "# cook your dish here\n",
    "T = int(input())\n",
    "\n",
    "\n",
    "for ti in range(T):\n",
    "    X  = int(input())\n",
    "    \n",
    "    o = X+X \n",
    "    print(o*5)"
   ]
  },
  {
   "cell_type": "code",
   "execution_count": null,
   "id": "5ac54106",
   "metadata": {},
   "outputs": [],
   "source": []
  }
 ],
 "metadata": {
  "kernelspec": {
   "display_name": "Python 3 (ipykernel)",
   "language": "python",
   "name": "python3"
  },
  "language_info": {
   "codemirror_mode": {
    "name": "ipython",
    "version": 3
   },
   "file_extension": ".py",
   "mimetype": "text/x-python",
   "name": "python",
   "nbconvert_exporter": "python",
   "pygments_lexer": "ipython3",
   "version": "3.10.8"
  }
 },
 "nbformat": 4,
 "nbformat_minor": 5
}
