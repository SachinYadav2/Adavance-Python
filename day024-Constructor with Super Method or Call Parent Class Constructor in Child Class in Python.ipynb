{
 "cells": [
  {
   "cell_type": "code",
   "execution_count": 1,
   "id": "a1a8c1ed",
   "metadata": {},
   "outputs": [
    {
     "name": "stdout",
     "output_type": "stream",
     "text": [
      "Father Class Construtor\n",
      "son Class Insance Cons\n"
     ]
    }
   ],
   "source": [
    " class Father:\n",
    "        def __init__(self):\n",
    "            print(\"Father Class Construtor\")\n",
    "            \n",
    "        def show(self):\n",
    "            print(\"Father Class Instance method\")\n",
    "            \n",
    "class Son(Father):\n",
    "    def __init__(self):\n",
    "        super().__init__() # Calling Father Const..\n",
    "        \n",
    "        print(\"son Class Insance Cons\")\n",
    "    def disp(self):\n",
    "        print(\"Son Class Instance Method\")\n",
    "s = Son()\n",
    " "
   ]
  },
  {
   "cell_type": "code",
   "execution_count": 3,
   "id": "4c44bb0f",
   "metadata": {},
   "outputs": [
    {
     "name": "stdout",
     "output_type": "stream",
     "text": [
      "Father Class Construtor\n",
      "son Class Insance Cons 1000\n",
      "Son Class Instance Method\n"
     ]
    }
   ],
   "source": [
    "  class Father:\n",
    "        def __init__(self):\n",
    "            self.money = 1000\n",
    "            print(\"Father Class Construtor\")\n",
    "            \n",
    "        def show(self):\n",
    "            print(\"Father Class Instance method\")\n",
    "            \n",
    "class Son(Father):\n",
    "    def __init__(self):\n",
    "        super().__init__() # Calling Father Const..\n",
    "        \n",
    "        print(\"son Class Insance Cons\" , self.money)\n",
    "    def disp(self):\n",
    "        print(\"Son Class Instance Method\")\n",
    "s = Son()\n",
    "s.disp()"
   ]
  },
  {
   "cell_type": "code",
   "execution_count": 5,
   "id": "2811c83d",
   "metadata": {},
   "outputs": [
    {
     "name": "stdout",
     "output_type": "stream",
     "text": [
      "Father Class Construtor\n",
      "son Class Insance Cons 10000\n",
      "Son Class Instance Method\n"
     ]
    }
   ],
   "source": [
    "  class Father:\n",
    "        def __init__(self , m):\n",
    "            self.money = m\n",
    "            print(\"Father Class Construtor\")\n",
    "            \n",
    "        def show(self):\n",
    "            print(\"Father Class Instance method\")\n",
    "            \n",
    "class Son(Father):\n",
    "    def __init__(self  , m):\n",
    "        super().__init__(m) # Calling Father Const..\n",
    "        \n",
    "        print(\"son Class Insance Cons\" , self.money)\n",
    "    def disp(self):\n",
    "        print(\"Son Class Instance Method\")\n",
    "s = Son(10000)\n",
    "s.disp()"
   ]
  },
  {
   "cell_type": "code",
   "execution_count": null,
   "id": "1411d650",
   "metadata": {},
   "outputs": [],
   "source": []
  }
 ],
 "metadata": {
  "kernelspec": {
   "display_name": "Python 3 (ipykernel)",
   "language": "python",
   "name": "python3"
  },
  "language_info": {
   "codemirror_mode": {
    "name": "ipython",
    "version": 3
   },
   "file_extension": ".py",
   "mimetype": "text/x-python",
   "name": "python",
   "nbconvert_exporter": "python",
   "pygments_lexer": "ipython3",
   "version": "3.10.8"
  }
 },
 "nbformat": 4,
 "nbformat_minor": 5
}
