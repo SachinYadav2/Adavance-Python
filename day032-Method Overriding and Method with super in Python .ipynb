{
 "cells": [
  {
   "cell_type": "code",
   "execution_count": 2,
   "id": "88a5db9c",
   "metadata": {},
   "outputs": [],
   "source": [
    "class Add:\n",
    "    def add(self , a , b):\n",
    "        print(\"Addi:\" , a+b)\n",
    "class Multi(Add):\n",
    "    def add(self , a , b):\n",
    "        print(\"Multi: \" , a+b+a)"
   ]
  },
  {
   "cell_type": "code",
   "execution_count": 4,
   "id": "a07030b2",
   "metadata": {},
   "outputs": [
    {
     "name": "stdout",
     "output_type": "stream",
     "text": [
      "Multi:  360\n"
     ]
    }
   ],
   "source": [
    "m = Multi()\n",
    "m.add(120 ,120)"
   ]
  },
  {
   "cell_type": "code",
   "execution_count": 6,
   "id": "99a0c46a",
   "metadata": {},
   "outputs": [],
   "source": [
    "class Add:\n",
    "    def add(self , a , b):\n",
    "        print(\"Addi:\" , a+b)\n",
    "class Multi(Add):\n",
    "    pass"
   ]
  },
  {
   "cell_type": "code",
   "execution_count": 7,
   "id": "80e7d093",
   "metadata": {},
   "outputs": [
    {
     "name": "stdout",
     "output_type": "stream",
     "text": [
      "Addi: 240\n"
     ]
    }
   ],
   "source": [
    "m = Multi()\n",
    "m.add(120 ,120)"
   ]
  },
  {
   "cell_type": "markdown",
   "id": "82486d03",
   "metadata": {},
   "source": [
    "# Super() Method ke sath"
   ]
  },
  {
   "cell_type": "code",
   "execution_count": 10,
   "id": "acf0e852",
   "metadata": {},
   "outputs": [
    {
     "ename": "TypeError",
     "evalue": "Add.add() missing 2 required positional arguments: 'a' and 'b'",
     "output_type": "error",
     "traceback": [
      "\u001b[0;31m---------------------------------------------------------------------------\u001b[0m",
      "\u001b[0;31mTypeError\u001b[0m                                 Traceback (most recent call last)",
      "Cell \u001b[0;32mIn[10], line 12\u001b[0m\n\u001b[1;32m      8\u001b[0m         \u001b[38;5;28mprint\u001b[39m(\u001b[38;5;124m\"\u001b[39m\u001b[38;5;124mMulti: \u001b[39m\u001b[38;5;124m\"\u001b[39m , a\u001b[38;5;241m+\u001b[39mb\u001b[38;5;241m+\u001b[39ma)\n\u001b[1;32m     11\u001b[0m m \u001b[38;5;241m=\u001b[39m Multi()\n\u001b[0;32m---> 12\u001b[0m \u001b[43mm\u001b[49m\u001b[38;5;241;43m.\u001b[39;49m\u001b[43madd\u001b[49m\u001b[43m(\u001b[49m\u001b[38;5;241;43m120\u001b[39;49m\u001b[43m \u001b[49m\u001b[43m,\u001b[49m\u001b[38;5;241;43m120\u001b[39;49m\u001b[43m)\u001b[49m\n",
      "Cell \u001b[0;32mIn[10], line 6\u001b[0m, in \u001b[0;36mMulti.add\u001b[0;34m(self, a, b)\u001b[0m\n\u001b[1;32m      5\u001b[0m \u001b[38;5;28;01mdef\u001b[39;00m \u001b[38;5;21madd\u001b[39m(\u001b[38;5;28mself\u001b[39m , a , b):\n\u001b[0;32m----> 6\u001b[0m     \u001b[38;5;28;43msuper\u001b[39;49m\u001b[43m(\u001b[49m\u001b[43m)\u001b[49m\u001b[38;5;241;43m.\u001b[39;49m\u001b[43madd\u001b[49m\u001b[43m(\u001b[49m\u001b[43m)\u001b[49m\n\u001b[1;32m      8\u001b[0m     \u001b[38;5;28mprint\u001b[39m(\u001b[38;5;124m\"\u001b[39m\u001b[38;5;124mMulti: \u001b[39m\u001b[38;5;124m\"\u001b[39m , a\u001b[38;5;241m+\u001b[39mb\u001b[38;5;241m+\u001b[39ma)\n",
      "\u001b[0;31mTypeError\u001b[0m: Add.add() missing 2 required positional arguments: 'a' and 'b'"
     ]
    }
   ],
   "source": [
    "class Add:\n",
    "    def add(self , a , b):\n",
    "        print(\"Addi:\" , a+b)\n",
    "class Multi(Add):\n",
    "    def add(self , a , b):\n",
    "        super().add()\n",
    "\n",
    "        print(\"Multi: \" , a+b+a)\n",
    "        \n",
    "        \n",
    "m = Multi()\n",
    "m.add(120 ,120)"
   ]
  },
  {
   "cell_type": "code",
   "execution_count": 17,
   "id": "2c742b86",
   "metadata": {},
   "outputs": [
    {
     "name": "stdout",
     "output_type": "stream",
     "text": [
      "Addi: 20\n",
      "Multi:  360\n"
     ]
    }
   ],
   "source": [
    "# Ye upr bala error bta rha h ke apne chile ke lye to\n",
    "# pass kr diya positional argumnet but tumne eski Paren ke add ke liye pass nhi kiya h\n",
    "class Add:\n",
    "    def add(self , a , y):\n",
    "        print(\"Addi:\" , a+y)\n",
    "class Multi(Add):\n",
    "    def add(self , a , b):\n",
    "        super().add(10 , 10)\n",
    "\n",
    "        print(\"Multi: \" , a+b+a)\n",
    "        \n",
    "        \n",
    "m = Multi()\n",
    "m.add(120 ,120)"
   ]
  },
  {
   "cell_type": "code",
   "execution_count": null,
   "id": "b5f4f66a",
   "metadata": {},
   "outputs": [],
   "source": []
  }
 ],
 "metadata": {
  "kernelspec": {
   "display_name": "Python 3 (ipykernel)",
   "language": "python",
   "name": "python3"
  },
  "language_info": {
   "codemirror_mode": {
    "name": "ipython",
    "version": 3
   },
   "file_extension": ".py",
   "mimetype": "text/x-python",
   "name": "python",
   "nbconvert_exporter": "python",
   "pygments_lexer": "ipython3",
   "version": "3.10.8"
  }
 },
 "nbformat": 4,
 "nbformat_minor": 5
}
