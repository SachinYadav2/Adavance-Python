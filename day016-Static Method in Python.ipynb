{
 "cells": [
  {
   "cell_type": "code",
   "execution_count": 1,
   "id": "013d5a31",
   "metadata": {},
   "outputs": [
    {
     "name": "stdout",
     "output_type": "stream",
     "text": [
      "Real me X\n"
     ]
    }
   ],
   "source": [
    "class Mobile:\n",
    "    \n",
    "    \n",
    "    @staticmethod  # Decorator\n",
    "    def show_model():  # Static method\n",
    "        print(\"Real me X\")\n",
    "        \n",
    "realme = Mobile()\n",
    "Mobile.show_model()  # Calling static Method"
   ]
  },
  {
   "cell_type": "code",
   "execution_count": 2,
   "id": "70d339eb",
   "metadata": {},
   "outputs": [
    {
     "name": "stdout",
     "output_type": "stream",
     "text": [
      "Real me X\n",
      "YES\n"
     ]
    }
   ],
   "source": [
    "class Mobile:\n",
    "    \n",
    "    fb = \"YES\"\n",
    "    \n",
    "    \n",
    "    @staticmethod  # Decorator\n",
    "    def show_model():  # Static method\n",
    "        print(\"Real me X\")\n",
    "        print(Mobile.fb)\n",
    "        \n",
    "realme = Mobile()\n",
    "Mobile.show_model()  # Calling static Method"
   ]
  },
  {
   "cell_type": "code",
   "execution_count": 3,
   "id": "2ff68cf2",
   "metadata": {},
   "outputs": [
    {
     "name": "stdout",
     "output_type": "stream",
     "text": [
      "Real me X\n",
      "YES\n",
      "1000\n",
      "I Phone \n"
     ]
    }
   ],
   "source": [
    "class Mobile:\n",
    "    \n",
    "    fb = \"YES\"\n",
    "    \n",
    "    \n",
    "    @staticmethod  # Decorator\n",
    "    def show_model(m , p):# Static method\n",
    "        \n",
    "        model = m\n",
    "        price = p\n",
    "        print(\"Real me X\")\n",
    "        print(Mobile.fb)\n",
    "        print(price)\n",
    "        print(model)\n",
    "        \n",
    "realme = Mobile()\n",
    "Mobile.show_model(\"I Phone \" , 1000)  # Calling static Method"
   ]
  },
  {
   "cell_type": "code",
   "execution_count": 14,
   "id": "522b2621",
   "metadata": {},
   "outputs": [
    {
     "name": "stdout",
     "output_type": "stream",
     "text": [
      "1\n",
      "6\n",
      "YES\n"
     ]
    }
   ],
   "source": [
    "T  = int(input())\n",
    "\n",
    "for Ti in range(T):\n",
    "    X = int (input())\n",
    "    if X == 6:\n",
    "        print(\"YES\")\n",
    "    else:\n",
    "        print(\"NO\")"
   ]
  },
  {
   "cell_type": "code",
   "execution_count": null,
   "id": "bd5fbf2c",
   "metadata": {},
   "outputs": [],
   "source": []
  }
 ],
 "metadata": {
  "kernelspec": {
   "display_name": "Python 3 (ipykernel)",
   "language": "python",
   "name": "python3"
  },
  "language_info": {
   "codemirror_mode": {
    "name": "ipython",
    "version": 3
   },
   "file_extension": ".py",
   "mimetype": "text/x-python",
   "name": "python",
   "nbconvert_exporter": "python",
   "pygments_lexer": "ipython3",
   "version": "3.10.8"
  }
 },
 "nbformat": 4,
 "nbformat_minor": 5
}
