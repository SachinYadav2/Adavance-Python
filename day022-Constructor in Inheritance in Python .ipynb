{
 "cells": [
  {
   "cell_type": "code",
   "execution_count": 1,
   "id": "2c3ad343",
   "metadata": {},
   "outputs": [],
   "source": [
    " class Father:\n",
    "        def __init__(self):\n",
    "            self.money = 2000\n",
    "            print(\"Father Class Cons Call\")\n",
    "        def show(self):\n",
    "            print(\"Father Class Method\")\n",
    "            \n",
    "class Son(Father):\n",
    "    def disp(self):\n",
    "        print(\"Son Class Method\")\n",
    "        "
   ]
  },
  {
   "cell_type": "code",
   "execution_count": 3,
   "id": "50429ea2",
   "metadata": {},
   "outputs": [
    {
     "name": "stdout",
     "output_type": "stream",
     "text": [
      "Father Class Cons Call\n"
     ]
    }
   ],
   "source": [
    "# Ye Fathe Ka automatic call ho gya h\n",
    "s = Son()"
   ]
  },
  {
   "cell_type": "code",
   "execution_count": 5,
   "id": "6bbc3d91",
   "metadata": {},
   "outputs": [
    {
     "data": {
      "text/plain": [
       "2000"
      ]
     },
     "execution_count": 5,
     "metadata": {},
     "output_type": "execute_result"
    }
   ],
   "source": [
    "s.money"
   ]
  },
  {
   "cell_type": "code",
   "execution_count": 8,
   "id": "2053aef5",
   "metadata": {},
   "outputs": [],
   "source": [
    " class Father:\n",
    "        def __init__(self , m):\n",
    "            self.money = m\n",
    "            print(\"Father Class Cons Call\" , self.money)\n",
    "        def show(self):\n",
    "            print(\"Father Class Method\")\n",
    "            \n",
    "class Son(Father):\n",
    "    def disp(self):\n",
    "        print(\"Son Class Method\")\n",
    "        "
   ]
  },
  {
   "cell_type": "code",
   "execution_count": 9,
   "id": "517800ac",
   "metadata": {},
   "outputs": [
    {
     "name": "stdout",
     "output_type": "stream",
     "text": [
      "Father Class Cons Call 5000\n"
     ]
    }
   ],
   "source": [
    "s = Son(5000)"
   ]
  },
  {
   "cell_type": "code",
   "execution_count": null,
   "id": "fe0e6203",
   "metadata": {},
   "outputs": [],
   "source": []
  }
 ],
 "metadata": {
  "kernelspec": {
   "display_name": "Python 3 (ipykernel)",
   "language": "python",
   "name": "python3"
  },
  "language_info": {
   "codemirror_mode": {
    "name": "ipython",
    "version": 3
   },
   "file_extension": ".py",
   "mimetype": "text/x-python",
   "name": "python",
   "nbconvert_exporter": "python",
   "pygments_lexer": "ipython3",
   "version": "3.10.8"
  }
 },
 "nbformat": 4,
 "nbformat_minor": 5
}
