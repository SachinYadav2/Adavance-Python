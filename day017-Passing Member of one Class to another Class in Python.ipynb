{
 "cells": [
  {
   "cell_type": "code",
   "execution_count": 2,
   "id": "bf9550bd",
   "metadata": {},
   "outputs": [
    {
     "name": "stdout",
     "output_type": "stream",
     "text": [
      "Sachin Yadav 147\n"
     ]
    }
   ],
   "source": [
    "class Student:\n",
    "    \n",
    "    \n",
    "    def __init__(self , n , r):\n",
    "        self.name  = n\n",
    "        self.roll = r\n",
    "    def disp(self):\n",
    "        print(\"Student Name :\" , self.name)\n",
    "        print(\"Student Roll_no:\" , self.roll)\n",
    "        \n",
    "class User:\n",
    "    @staticmethod\n",
    "    def show(self):\n",
    "        print(self.name , self.roll)\n",
    "        \n",
    "Obj = Student(\"Sachin Yadav\" , 147)\n",
    "User.show(Obj)"
   ]
  },
  {
   "cell_type": "code",
   "execution_count": 3,
   "id": "f759fd81",
   "metadata": {},
   "outputs": [
    {
     "name": "stdout",
     "output_type": "stream",
     "text": [
      "Student Name : Sachin Yadav\n",
      "Student Roll_no: 147\n"
     ]
    }
   ],
   "source": [
    "Obj.disp()"
   ]
  },
  {
   "cell_type": "code",
   "execution_count": null,
   "id": "1c96ed96",
   "metadata": {},
   "outputs": [],
   "source": []
  }
 ],
 "metadata": {
  "kernelspec": {
   "display_name": "Python 3 (ipykernel)",
   "language": "python",
   "name": "python3"
  },
  "language_info": {
   "codemirror_mode": {
    "name": "ipython",
    "version": 3
   },
   "file_extension": ".py",
   "mimetype": "text/x-python",
   "name": "python",
   "nbconvert_exporter": "python",
   "pygments_lexer": "ipython3",
   "version": "3.10.8"
  }
 },
 "nbformat": 4,
 "nbformat_minor": 5
}
