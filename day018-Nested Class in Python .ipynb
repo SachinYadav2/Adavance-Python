{
 "cells": [
  {
   "cell_type": "code",
   "execution_count": 88,
   "id": "b1c200c4",
   "metadata": {},
   "outputs": [
    {
     "name": "stdout",
     "output_type": "stream",
     "text": [
      "Rahul\n",
      "Name: Rahul\n"
     ]
    }
   ],
   "source": [
    "class Army:  # Ouuter Class\n",
    "    def __init__(self):\n",
    "        self.name = \"Rahul\"\n",
    "        self.gn = self.Gun() # Inner class Obj\n",
    "        \n",
    "    def show(self):\n",
    "        print(\"Name:\" , self.name)\n",
    "    class Gun:\n",
    "        def __init__(self):\n",
    "            self.name = \"AK47\"\n",
    "            self.capacity = \"75 Round\"\n",
    "            self.lenght = \"34.3 In\"\n",
    "            \n",
    "        def disp(self):\n",
    "            print(\"Gun Name\", self.name)\n",
    "            print(self.capacity)\n",
    "            print(self.lenght)\n",
    "a = Army()\n",
    "print(a.name)\n",
    "a.show()          \n",
    "        "
   ]
  },
  {
   "cell_type": "code",
   "execution_count": 89,
   "id": "51699dc2",
   "metadata": {},
   "outputs": [
    {
     "data": {
      "text/plain": [
       "'AK47'"
      ]
     },
     "execution_count": 89,
     "metadata": {},
     "output_type": "execute_result"
    }
   ],
   "source": [
    "a.gn.name"
   ]
  },
  {
   "cell_type": "code",
   "execution_count": 90,
   "id": "e6e1f205",
   "metadata": {},
   "outputs": [
    {
     "name": "stdout",
     "output_type": "stream",
     "text": [
      "AK47\n",
      "34.3 In\n"
     ]
    }
   ],
   "source": [
    "g = a.gn\n",
    "print(g.name)\n",
    "print(g.lenght)"
   ]
  },
  {
   "cell_type": "code",
   "execution_count": 94,
   "id": "aafceb34",
   "metadata": {},
   "outputs": [
    {
     "name": "stdout",
     "output_type": "stream",
     "text": [
      "12\n"
     ]
    }
   ],
   "source": [
    "print(min([12 ,13]))"
   ]
  },
  {
   "cell_type": "code",
   "execution_count": null,
   "id": "be6bef27",
   "metadata": {},
   "outputs": [],
   "source": [
    "min()"
   ]
  }
 ],
 "metadata": {
  "kernelspec": {
   "display_name": "Python 3 (ipykernel)",
   "language": "python",
   "name": "python3"
  },
  "language_info": {
   "codemirror_mode": {
    "name": "ipython",
    "version": 3
   },
   "file_extension": ".py",
   "mimetype": "text/x-python",
   "name": "python",
   "nbconvert_exporter": "python",
   "pygments_lexer": "ipython3",
   "version": "3.10.8"
  }
 },
 "nbformat": 4,
 "nbformat_minor": 5
}
