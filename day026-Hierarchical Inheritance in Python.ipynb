{
 "cells": [
  {
   "cell_type": "code",
   "execution_count": 1,
   "id": "8a760ae9",
   "metadata": {},
   "outputs": [],
   "source": [
    "# Esme hm only Ek parents se two class bnate h"
   ]
  },
  {
   "cell_type": "code",
   "execution_count": 6,
   "id": "9fa5a66e",
   "metadata": {},
   "outputs": [
    {
     "name": "stdout",
     "output_type": "stream",
     "text": [
      "bachii Class Method\n",
      "Father Class Method\n"
     ]
    }
   ],
   "source": [
    "class Father:\n",
    "    def showF(self):\n",
    "        print(\"Father Class Method\")\n",
    "        \n",
    "class Son(Father):\n",
    "    def showS(self):\n",
    "        print(\"bachhha Class Method\")\n",
    "        \n",
    "class daughter(Father):\n",
    "    def showD(self):\n",
    "        print(\"bachii Class Method\") \n",
    "        \n",
    "        \n",
    "obj = daughter()\n",
    "obj.showD()\n",
    "obj.showF()\n"
   ]
  },
  {
   "cell_type": "code",
   "execution_count": 7,
   "id": "48b79bc8",
   "metadata": {},
   "outputs": [
    {
     "name": "stdout",
     "output_type": "stream",
     "text": [
      "bachii Class Method\n",
      "Father Class Method\n"
     ]
    },
    {
     "ename": "AttributeError",
     "evalue": "'daughter' object has no attribute 'showS'",
     "output_type": "error",
     "traceback": [
      "\u001b[0;31m---------------------------------------------------------------------------\u001b[0m",
      "\u001b[0;31mAttributeError\u001b[0m                            Traceback (most recent call last)",
      "Cell \u001b[0;32mIn[7], line 17\u001b[0m\n\u001b[1;32m     15\u001b[0m obj\u001b[38;5;241m.\u001b[39mshowD()\n\u001b[1;32m     16\u001b[0m obj\u001b[38;5;241m.\u001b[39mshowF()\n\u001b[0;32m---> 17\u001b[0m \u001b[43mobj\u001b[49m\u001b[38;5;241;43m.\u001b[39;49m\u001b[43mshowS\u001b[49m()\n",
      "\u001b[0;31mAttributeError\u001b[0m: 'daughter' object has no attribute 'showS'"
     ]
    }
   ],
   "source": [
    "class Father:\n",
    "    def showF(self):\n",
    "        print(\"Father Class Method\")\n",
    "        \n",
    "class Son(Father):\n",
    "    def showS(self):\n",
    "        print(\"bachhha Class Method\")\n",
    "        \n",
    "class daughter(Father):\n",
    "    def showD(self):\n",
    "        print(\"bachii Class Method\") \n",
    "        \n",
    "        \n",
    "obj = daughter()\n",
    "obj.showD()\n",
    "obj.showF()\n",
    "obj.showS()"
   ]
  },
  {
   "cell_type": "code",
   "execution_count": 14,
   "id": "9e2d4e10",
   "metadata": {},
   "outputs": [],
   "source": [
    " class Father:\n",
    "        def __init__(self):\n",
    "            print(\"FatherClass Constru\")\n",
    "            \n",
    "        def show(self):\n",
    "            print(\"Father Class Method\")\n",
    "            \n",
    "class Son(Father):\n",
    "    def __init__(self):\n",
    "        super().__init__()\n",
    "\n",
    "        \n",
    "        print(\"GrandSon classs Constructor\")\n",
    "    def showF(self):\n",
    "        print(\"son Class Method\")\n",
    "class Daut(Father):\n",
    "\n",
    "    def __init__(self):\n",
    "        super().__init__()\n",
    "\n",
    "        \n",
    "        print(\"Chiled Consructor\")\n",
    "    def showG(self):\n",
    "        print(\"GrandSon Class Method Call\")\n"
   ]
  },
  {
   "cell_type": "code",
   "execution_count": 15,
   "id": "c2016c0e",
   "metadata": {},
   "outputs": [
    {
     "name": "stdout",
     "output_type": "stream",
     "text": [
      "FatherClass Constru\n",
      "Chiled Consructor\n"
     ]
    }
   ],
   "source": [
    "g = Daut()\n"
   ]
  },
  {
   "cell_type": "code",
   "execution_count": 16,
   "id": "568c2e65",
   "metadata": {},
   "outputs": [
    {
     "name": "stdout",
     "output_type": "stream",
     "text": [
      "FatherClass Constru\n",
      "GrandSon classs Constructor\n"
     ]
    }
   ],
   "source": [
    "s  = Son()"
   ]
  },
  {
   "cell_type": "code",
   "execution_count": null,
   "id": "dda5fce5",
   "metadata": {},
   "outputs": [],
   "source": []
  }
 ],
 "metadata": {
  "kernelspec": {
   "display_name": "Python 3 (ipykernel)",
   "language": "python",
   "name": "python3"
  },
  "language_info": {
   "codemirror_mode": {
    "name": "ipython",
    "version": 3
   },
   "file_extension": ".py",
   "mimetype": "text/x-python",
   "name": "python",
   "nbconvert_exporter": "python",
   "pygments_lexer": "ipython3",
   "version": "3.10.8"
  }
 },
 "nbformat": 4,
 "nbformat_minor": 5
}
