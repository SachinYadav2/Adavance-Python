{
 "cells": [
  {
   "cell_type": "code",
   "execution_count": 3,
   "id": "c907453d",
   "metadata": {},
   "outputs": [
    {
     "name": "stdout",
     "output_type": "stream",
     "text": [
      "Real me X\n"
     ]
    }
   ],
   "source": [
    "# Instance Method without perameter\n",
    "class Mobile:\n",
    "    #Cons\n",
    "    def __init__(self):\n",
    "        self.model = \"Real me X\"\n",
    "    \n",
    "    # Instance Method\n",
    "    def show_model(self):\n",
    "        print(\"Real me X\")\n",
    "        \n",
    "realme = Mobile()\n",
    "\n",
    "# Self me hmra cureent Object ka Addresh pass hota h\n",
    "realme.show_model()"
   ]
  },
  {
   "cell_type": "code",
   "execution_count": 4,
   "id": "1e5e91ca",
   "metadata": {},
   "outputs": [
    {
     "name": "stdout",
     "output_type": "stream",
     "text": [
      "Real me X 1000\n"
     ]
    }
   ],
   "source": [
    "# Instance Method perameter\n",
    "class Mobile:\n",
    "    #Cons\n",
    "    def __init__(self):\n",
    "        self.model = \"Real me X\"\n",
    "    \n",
    "    # Instance Method\n",
    "    def show_model(self , p):\n",
    "        self.price = p\n",
    "        print(\"Real me X\" , self.price)\n",
    "        \n",
    "realme = Mobile()\n",
    "\n",
    "# Self me hmra cureent Object ka Addresh pass hota h\n",
    "realme.show_model(1000)"
   ]
  },
  {
   "cell_type": "code",
   "execution_count": null,
   "id": "b51e9757",
   "metadata": {},
   "outputs": [],
   "source": []
  }
 ],
 "metadata": {
  "kernelspec": {
   "display_name": "Python 3 (ipykernel)",
   "language": "python",
   "name": "python3"
  },
  "language_info": {
   "codemirror_mode": {
    "name": "ipython",
    "version": 3
   },
   "file_extension": ".py",
   "mimetype": "text/x-python",
   "name": "python",
   "nbconvert_exporter": "python",
   "pygments_lexer": "ipython3",
   "version": "3.10.8"
  }
 },
 "nbformat": 4,
 "nbformat_minor": 5
}
