{
 "cells": [
  {
   "cell_type": "code",
   "execution_count": 4,
   "id": "314a33d2",
   "metadata": {},
   "outputs": [],
   "source": [
    "class Father:\n",
    "    def __init__(self):\n",
    "        self.money  = 2000\n",
    "\n",
    "        print(\"Father Const is Call\")\n",
    "class Son(Father):\n",
    "    # Cons is Ovverding\n",
    "    def __init__(self):\n",
    "        self.money = 50000\n",
    "        print(\"Son Class Const:\")\n",
    "    def disp(self):\n",
    "        print(self.money)\n"
   ]
  },
  {
   "cell_type": "code",
   "execution_count": 5,
   "id": "d023c4d0",
   "metadata": {},
   "outputs": [
    {
     "name": "stdout",
     "output_type": "stream",
     "text": [
      "Son Class Const:\n",
      "50000\n"
     ]
    }
   ],
   "source": [
    "s = Son()\n",
    "s.disp()"
   ]
  },
  {
   "cell_type": "code",
   "execution_count": 6,
   "id": "f5aec9a0",
   "metadata": {},
   "outputs": [
    {
     "name": "stdout",
     "output_type": "stream",
     "text": [
      "Father Const is Call\n",
      "Son Class Const:\n"
     ]
    }
   ],
   "source": [
    "F = Father()\n",
    "S = Son()"
   ]
  },
  {
   "cell_type": "code",
   "execution_count": 7,
   "id": "43e24a71",
   "metadata": {},
   "outputs": [],
   "source": [
    "class Father:\n",
    "    def __init__(self , m):\n",
    "        self.money  = m\n",
    "\n",
    "        print(\"Father Const is Call\")\n",
    "class Son(Father):\n",
    "    # Cons is Ovverding\n",
    "    def __init__(self  , r):\n",
    "        self.money = r\n",
    "        print(\"Son Class Const:\")\n",
    "    def disp(self):\n",
    "        print(self.money)\n"
   ]
  },
  {
   "cell_type": "code",
   "execution_count": 8,
   "id": "6429f857",
   "metadata": {},
   "outputs": [
    {
     "name": "stdout",
     "output_type": "stream",
     "text": [
      "Son Class Const:\n"
     ]
    }
   ],
   "source": [
    "s = Son(2000)"
   ]
  },
  {
   "cell_type": "code",
   "execution_count": 10,
   "id": "8725c4fe",
   "metadata": {},
   "outputs": [
    {
     "name": "stdout",
     "output_type": "stream",
     "text": [
      "2000\n"
     ]
    }
   ],
   "source": [
    "s.disp()"
   ]
  },
  {
   "cell_type": "code",
   "execution_count": null,
   "id": "b1cff90a",
   "metadata": {},
   "outputs": [],
   "source": []
  }
 ],
 "metadata": {
  "kernelspec": {
   "display_name": "Python 3 (ipykernel)",
   "language": "python",
   "name": "python3"
  },
  "language_info": {
   "codemirror_mode": {
    "name": "ipython",
    "version": 3
   },
   "file_extension": ".py",
   "mimetype": "text/x-python",
   "name": "python",
   "nbconvert_exporter": "python",
   "pygments_lexer": "ipython3",
   "version": "3.10.8"
  }
 },
 "nbformat": 4,
 "nbformat_minor": 5
}
