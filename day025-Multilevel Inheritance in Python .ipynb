{
 "cells": [
  {
   "cell_type": "code",
   "execution_count": 1,
   "id": "80327657",
   "metadata": {},
   "outputs": [
    {
     "name": "stdout",
     "output_type": "stream",
     "text": [
      "Father Class Method\n",
      "son Class Method\n",
      "GrandSon Class Method Call\n"
     ]
    }
   ],
   "source": [
    " class Father:\n",
    "        def show(self):\n",
    "            print(\"Father Class Method\")\n",
    "            \n",
    "class Son(Father):\n",
    "    def showF(self):\n",
    "        print(\"son Class Method\")\n",
    "class Grand(Son):\n",
    "    def showG(self):\n",
    "        print(\"GrandSon Class Method Call\")\n",
    "g = Grand()\n",
    "g.show()\n",
    "g.showF() \n",
    "g.showG()"
   ]
  },
  {
   "cell_type": "code",
   "execution_count": 2,
   "id": "d8398dd7",
   "metadata": {},
   "outputs": [
    {
     "name": "stdout",
     "output_type": "stream",
     "text": [
      "GrandSon classs Constructor\n",
      "Father Class Method\n",
      "son Class Method\n",
      "GrandSon Class Method Call\n"
     ]
    }
   ],
   "source": [
    " class Father:\n",
    "        def __init__(self):\n",
    "            print(\"Son Class Constru\")\n",
    "            \n",
    "        def show(self):\n",
    "            print(\"Father Class Method\")\n",
    "            \n",
    "class Son(Father):\n",
    "    def __init__(self):\n",
    "        print(\"GrandSon classs Constructor\")\n",
    "    def showF(self):\n",
    "        print(\"son Class Method\")\n",
    "class Grand(Son):\n",
    "    def showG(self):\n",
    "        print(\"GrandSon Class Method Call\")\n",
    "g = Grand()\n",
    "g.show()\n",
    "g.showF() \n",
    "g.showG()"
   ]
  },
  {
   "cell_type": "code",
   "execution_count": 4,
   "id": "81e5b713",
   "metadata": {},
   "outputs": [
    {
     "name": "stdout",
     "output_type": "stream",
     "text": [
      "GrandSon classs Constructor\n",
      "Chiled Consructor\n"
     ]
    }
   ],
   "source": [
    " class Father:\n",
    "        def __init__(self):\n",
    "            print(\"Son Class Constru\")\n",
    "            \n",
    "        def show(self):\n",
    "            print(\"Father Class Method\")\n",
    "            \n",
    "class Son(Father):\n",
    "    def __init__(self):\n",
    "        \n",
    "        print(\"GrandSon classs Constructor\")\n",
    "    def showF(self):\n",
    "        print(\"son Class Method\")\n",
    "class Grand(Son):\n",
    "\n",
    "    def __init__(self):\n",
    "        \n",
    "        super().__init__()\n",
    "        print(\"Chiled Consructor\")\n",
    "    def showG(self):\n",
    "        print(\"GrandSon Class Method Call\")\n",
    "g = Grand()\n"
   ]
  },
  {
   "cell_type": "code",
   "execution_count": 6,
   "id": "94a54840",
   "metadata": {},
   "outputs": [
    {
     "name": "stdout",
     "output_type": "stream",
     "text": [
      "FatherClass Constru\n",
      "GrandSon classs Constructor\n",
      "Chiled Consructor\n"
     ]
    }
   ],
   "source": [
    " class Father:\n",
    "        def __init__(self):\n",
    "            print(\"FatherClass Constru\")\n",
    "            \n",
    "        def show(self):\n",
    "            print(\"Father Class Method\")\n",
    "            \n",
    "class Son(Father):\n",
    "    def __init__(self):\n",
    "        super().__init__()\n",
    "        \n",
    "        print(\"GrandSon classs Constructor\")\n",
    "    def showF(self):\n",
    "        print(\"son Class Method\")\n",
    "class Grand(Son):\n",
    "\n",
    "    def __init__(self):\n",
    "        \n",
    "        super().__init__()\n",
    "        print(\"Chiled Consructor\")\n",
    "    def showG(self):\n",
    "        print(\"GrandSon Class Method Call\")\n",
    "g = Grand()\n"
   ]
  },
  {
   "cell_type": "code",
   "execution_count": null,
   "id": "5bc096b6",
   "metadata": {},
   "outputs": [],
   "source": [
    " "
   ]
  }
 ],
 "metadata": {
  "kernelspec": {
   "display_name": "Python 3 (ipykernel)",
   "language": "python",
   "name": "python3"
  },
  "language_info": {
   "codemirror_mode": {
    "name": "ipython",
    "version": 3
   },
   "file_extension": ".py",
   "mimetype": "text/x-python",
   "name": "python",
   "nbconvert_exporter": "python",
   "pygments_lexer": "ipython3",
   "version": "3.10.8"
  }
 },
 "nbformat": 4,
 "nbformat_minor": 5
}
