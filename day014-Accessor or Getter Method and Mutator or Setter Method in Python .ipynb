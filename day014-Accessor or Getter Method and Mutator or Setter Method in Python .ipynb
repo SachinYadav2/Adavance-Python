{
 "cells": [
  {
   "cell_type": "code",
   "execution_count": 1,
   "id": "98938043",
   "metadata": {},
   "outputs": [
    {
     "name": "stdout",
     "output_type": "stream",
     "text": [
      "Real me x\n"
     ]
    }
   ],
   "source": [
    "class Mobile:\n",
    "    \n",
    "    \n",
    "    def __init__(self):\n",
    "        self.model = \"Real me x\"\n",
    "        \n",
    "    def getter(self):\n",
    "        return self.model\n",
    "    \n",
    "realme = Mobile()\n",
    "\n",
    "m = realme.getter()\n",
    "print(m)"
   ]
  },
  {
   "cell_type": "code",
   "execution_count": 5,
   "id": "024f62e7",
   "metadata": {},
   "outputs": [
    {
     "name": "stdout",
     "output_type": "stream",
     "text": [
      "Real me x\n",
      "I Phone 15\n"
     ]
    }
   ],
   "source": [
    "class Mobile:\n",
    "    \n",
    "    \n",
    "    def __init__(self):\n",
    "        self.model = \"Real me x\"\n",
    "        \n",
    "    def setter(self):\n",
    "        self.model = \"I Phone 15\"\n",
    "    \n",
    "realme = Mobile()\n",
    "\n",
    "m = realme.model\n",
    "print(m)\n",
    "\n",
    "# After Set \n",
    "realme.setter()\n",
    "print(realme.model)"
   ]
  },
  {
   "cell_type": "code",
   "execution_count": null,
   "id": "db37cee4",
   "metadata": {},
   "outputs": [],
   "source": []
  }
 ],
 "metadata": {
  "kernelspec": {
   "display_name": "Python 3 (ipykernel)",
   "language": "python",
   "name": "python3"
  },
  "language_info": {
   "codemirror_mode": {
    "name": "ipython",
    "version": 3
   },
   "file_extension": ".py",
   "mimetype": "text/x-python",
   "name": "python",
   "nbconvert_exporter": "python",
   "pygments_lexer": "ipython3",
   "version": "3.10.8"
  }
 },
 "nbformat": 4,
 "nbformat_minor": 5
}
