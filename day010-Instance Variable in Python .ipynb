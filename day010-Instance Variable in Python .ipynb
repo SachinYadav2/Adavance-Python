{
 "cells": [
  {
   "cell_type": "code",
   "execution_count": 1,
   "id": "e4559bde",
   "metadata": {},
   "outputs": [
    {
     "name": "stdout",
     "output_type": "stream",
     "text": [
      "realme x\n",
      "None\n"
     ]
    }
   ],
   "source": [
    "# Instance Varibable\n",
    "\n",
    "class Mobile:\n",
    "    def __init__(self):\n",
    "        self.model= \"realme x\" # Instanance Variable\n",
    "        \n",
    "    def show_modeL(self):\n",
    "        \n",
    "        # yha akr hm Modifiction bhi kr skte h\n",
    "#         self.model = \"I Phone\" \n",
    "        print(self.model)\n",
    "        \n",
    "realme = Mobile()\n",
    "print(realme.show_modeL())"
   ]
  },
  {
   "cell_type": "code",
   "execution_count": 3,
   "id": "560f7e81",
   "metadata": {},
   "outputs": [
    {
     "name": "stdout",
     "output_type": "stream",
     "text": [
      "realme x\n"
     ]
    }
   ],
   "source": [
    "# Instance Varibable\n",
    "\n",
    "class Mobile:\n",
    "    def __init__(self):\n",
    "        self.model= \"realme x\" # Instanance Variable\n",
    "        \n",
    "    def show_modeL(self):\n",
    "        \n",
    "        # yha akr hm Modifiction bhi kr skte h\n",
    "#         self.model = \"I Phone\" \n",
    "        print(self.model)\n",
    "        \n",
    "realme = Mobile()\n",
    "print(realme.model)"
   ]
  },
  {
   "cell_type": "code",
   "execution_count": 4,
   "id": "59977264",
   "metadata": {},
   "outputs": [
    {
     "name": "stdout",
     "output_type": "stream",
     "text": [
      "realme x\n",
      "realme x\n"
     ]
    }
   ],
   "source": [
    "# Instance Varibable\n",
    "\n",
    "class Mobile:\n",
    "    def __init__(self):\n",
    "        self.model= \"realme x\" # Instanance Variable\n",
    "        \n",
    "    def show_modeL(self):\n",
    "        \n",
    "        # yha akr hm Modifiction bhi kr skte h\n",
    "#         self.model = \"I Phone\" \n",
    "        print(self.model)\n",
    "        \n",
    "realme = Mobile()\n",
    "redme = Mobile()\n",
    "\n",
    "print(realme.model)\n",
    "print(redme.model)"
   ]
  },
  {
   "cell_type": "code",
   "execution_count": 5,
   "id": "aedfb708",
   "metadata": {},
   "outputs": [
    {
     "name": "stdout",
     "output_type": "stream",
     "text": [
      "4422110000\n",
      "4422110000\n"
     ]
    }
   ],
   "source": [
    "print(id(realme.model))\n",
    "print(id(redme.model))"
   ]
  },
  {
   "cell_type": "code",
   "execution_count": 7,
   "id": "b0e987c5",
   "metadata": {},
   "outputs": [
    {
     "name": "stdout",
     "output_type": "stream",
     "text": [
      "realme x\n",
      "I PHONE\n"
     ]
    }
   ],
   "source": [
    "# Eska Effect Only hmare   \n",
    "redme.model = 'I PHONE'\n",
    "print(realme.model)\n",
    "print(redme.model)"
   ]
  },
  {
   "cell_type": "code",
   "execution_count": null,
   "id": "f2b23a63",
   "metadata": {},
   "outputs": [],
   "source": []
  }
 ],
 "metadata": {
  "kernelspec": {
   "display_name": "Python 3 (ipykernel)",
   "language": "python",
   "name": "python3"
  },
  "language_info": {
   "codemirror_mode": {
    "name": "ipython",
    "version": 3
   },
   "file_extension": ".py",
   "mimetype": "text/x-python",
   "name": "python",
   "nbconvert_exporter": "python",
   "pygments_lexer": "ipython3",
   "version": "3.10.8"
  }
 },
 "nbformat": 4,
 "nbformat_minor": 5
}
